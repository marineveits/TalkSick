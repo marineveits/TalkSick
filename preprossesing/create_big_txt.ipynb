{
 "cells": [
  {
   "cell_type": "code",
   "execution_count": 1,
   "metadata": {},
   "outputs": [],
   "source": [
    "import pandas as pd\n",
    "import numpy as np"
   ]
  },
  {
   "cell_type": "code",
   "execution_count": 2,
   "metadata": {},
   "outputs": [],
   "source": [
    "TRAIN_DATA_FILE= 'cleaned_train.csv'\n",
    "TEST_DATA_FILE= 'cleaned_test.csv'\n",
    "\n",
    "train_df = pd.read_csv(TRAIN_DATA_FILE)\n",
    "test_df = pd.read_csv(TEST_DATA_FILE)\n"
   ]
  },
  {
   "cell_type": "code",
   "execution_count": 7,
   "metadata": {},
   "outputs": [],
   "source": [
    "train_text=train_df.comment_text\n",
    "test_text=test_df.comment_text"
   ]
  },
  {
   "cell_type": "code",
   "execution_count": 12,
   "metadata": {},
   "outputs": [],
   "source": [
    "all_text=pd.concat([train_text,test_text],ignore_index=True)"
   ]
  },
  {
   "cell_type": "code",
   "execution_count": 13,
   "metadata": {},
   "outputs": [
    {
     "data": {
      "text/plain": [
       "0         explanation why the edits made under my userna...\n",
       "1         d aww ! he matches this background colour i am...\n",
       "2         hey man i am really not trying to edit war it ...\n",
       "3         more i cannot make any real suggestions on imp...\n",
       "4         you sir are my hero any chance you remember wh...\n",
       "5         congratulations from me as well use the tools ...\n",
       "6              cocksucker before you piss around on my work\n",
       "7         your vandalism to the matt shirvington article...\n",
       "8         sorry if the word nonsense was offensive to yo...\n",
       "9         alignment on this subject and which are contra...\n",
       "10        fair use rationale for thanks for uploading i ...\n",
       "11        bbq be a man and lets discuss it - maybe over ...\n",
       "12        hey what is it @ | talk what is it an exclusiv...\n",
       "13        before you start throwing accusations and warn...\n",
       "14        oh and the girl above started her arguments wi...\n",
       "15        juelz santanas age in juelz santana was years ...\n",
       "16        bye ! do not look come or think of comming bac...\n",
       "17        redirect talk : voydan pop georgiev - chernodr...\n",
       "18        the mitsurugi point made no sense - why not ar...\n",
       "19        do not mean to bother you i see that you are w...\n",
       "20        regarding your recent edits once again please ...\n",
       "21        good to know about me yeah i am studying now (...\n",
       "22        snowflakes are not always symmetrical ! under ...\n",
       "23        the signpost : september read this signpost in...\n",
       "24        re - considering st paragraph edit ? i do not ...\n",
       "25        radial symmetry several now extinct lineages i...\n",
       "26        there no need to apologize a wikipedia article...\n",
       "27        yes because the mother of the child in the cas...\n",
       "28        ok but it will take a bit of work but i cannot...\n",
       "29        = = a barnstar for you ! = = the real life bar...\n",
       "                                ...                        \n",
       "223519                   = = thanks = = for this i forgot p\n",
       "223520    i would like to know when the facemask was fir...\n",
       "223521                       the yatt got me this is insane\n",
       "223522    this is my user talk page sandbox i have the a...\n",
       "223523    {{pressmulti|small = yes|collapsed = yes | tit...\n",
       "223524             africa gives aids and ebola thank africa\n",
       "223525    = = eureka california = = thank you for doing ...\n",
       "223526    : : also note that the paragraph goes on to di...\n",
       "223527    : : : : : : : : p s : ah i now see you probabl...\n",
       "223528    you have not shown why you regard the as soon ...\n",
       "223529    = = suicide = = anyone know why he committed s...\n",
       "223530    : i am afraid that i have to share their conce...\n",
       "223531    = = homosexuality - discrepency = = this artic...\n",
       "223532    (utc) : : fyi i am currently in edit conflicts...\n",
       "223533    = = iran = = that’s right iran it was our dron...\n",
       "223534    thank you gary that does make me feel welcome ...\n",
       "223535    added at by : somebody using the same ip as yo...\n",
       "223536    have been reading this talk page and i was ama...\n",
       "223537    = = same coffee shop ? = = my memory of it is ...\n",
       "223538    = = your edit to maungaturoto = = please do no...\n",
       "223539    balancing the two approaches to psychiatry ( b...\n",
       "223540    = = your name mentioned = = hi i just thought ...\n",
       "223541    i have just discovered yet another list : list...\n",
       "223542    : : consensus for ruining wikipedia ? i think ...\n",
       "223543    shut down the mexican border withought looking...\n",
       "223544    : jerome i see you never got around to this… !...\n",
       "223545    = = lucky bastard = = heh you are famous now i...\n",
       "223546    = = shame on you all ! ! ! = = you want to spe...\n",
       "223547    mel gibson is a nazi bitch who makes shitty mo...\n",
       "223548    = = unicorn lair discovery = = supposedly a un...\n",
       "Name: comment_text, Length: 223549, dtype: object"
      ]
     },
     "execution_count": 13,
     "metadata": {},
     "output_type": "execute_result"
    }
   ],
   "source": [
    "all_text"
   ]
  },
  {
   "cell_type": "code",
   "execution_count": 14,
   "metadata": {},
   "outputs": [],
   "source": [
    "all_text.to_csv(r'big.txt', header=None, index=None, sep=' ', mode='a')"
   ]
  }
 ],
 "metadata": {
  "kernelspec": {
   "display_name": "Python [default]",
   "language": "python",
   "name": "python3"
  },
  "language_info": {
   "codemirror_mode": {
    "name": "ipython",
    "version": 3
   },
   "file_extension": ".py",
   "mimetype": "text/x-python",
   "name": "python",
   "nbconvert_exporter": "python",
   "pygments_lexer": "ipython3",
   "version": "3.6.4"
  }
 },
 "nbformat": 4,
 "nbformat_minor": 2
}
